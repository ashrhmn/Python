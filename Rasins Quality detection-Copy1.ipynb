{
 "cells": [
  {
   "cell_type": "code",
   "execution_count": 1,
   "id": "5ec68f17",
   "metadata": {},
   "outputs": [],
   "source": [
    "import numpy as np\n",
    "import pandas as pd\n",
    "import matplotlib.pyplot as plt\n",
    "import seaborn as sns\n",
    "from sklearn import metrics\n",
    "%matplotlib inline"
   ]
  },
  {
   "cell_type": "code",
   "execution_count": 2,
   "id": "1deb6a7a",
   "metadata": {},
   "outputs": [
    {
     "data": {
      "text/html": [
       "<div>\n",
       "<style scoped>\n",
       "    .dataframe tbody tr th:only-of-type {\n",
       "        vertical-align: middle;\n",
       "    }\n",
       "\n",
       "    .dataframe tbody tr th {\n",
       "        vertical-align: top;\n",
       "    }\n",
       "\n",
       "    .dataframe thead th {\n",
       "        text-align: right;\n",
       "    }\n",
       "</style>\n",
       "<table border=\"1\" class=\"dataframe\">\n",
       "  <thead>\n",
       "    <tr style=\"text-align: right;\">\n",
       "      <th></th>\n",
       "      <th>Area</th>\n",
       "      <th>MajorAxisLength</th>\n",
       "      <th>MinorAxisLength</th>\n",
       "      <th>Eccentricity</th>\n",
       "      <th>ConvexArea</th>\n",
       "      <th>Extent</th>\n",
       "      <th>Perimeter</th>\n",
       "      <th>Class</th>\n",
       "    </tr>\n",
       "  </thead>\n",
       "  <tbody>\n",
       "    <tr>\n",
       "      <th>0</th>\n",
       "      <td>87524</td>\n",
       "      <td>442.246011</td>\n",
       "      <td>253.291155</td>\n",
       "      <td>0.819738</td>\n",
       "      <td>90546</td>\n",
       "      <td>0.758651</td>\n",
       "      <td>1184.040</td>\n",
       "      <td>Kecimen</td>\n",
       "    </tr>\n",
       "    <tr>\n",
       "      <th>1</th>\n",
       "      <td>75166</td>\n",
       "      <td>406.690687</td>\n",
       "      <td>243.032436</td>\n",
       "      <td>0.801805</td>\n",
       "      <td>78789</td>\n",
       "      <td>0.684130</td>\n",
       "      <td>1121.786</td>\n",
       "      <td>Kecimen</td>\n",
       "    </tr>\n",
       "    <tr>\n",
       "      <th>2</th>\n",
       "      <td>90856</td>\n",
       "      <td>442.267048</td>\n",
       "      <td>266.328318</td>\n",
       "      <td>0.798354</td>\n",
       "      <td>93717</td>\n",
       "      <td>0.637613</td>\n",
       "      <td>1208.575</td>\n",
       "      <td>Kecimen</td>\n",
       "    </tr>\n",
       "    <tr>\n",
       "      <th>3</th>\n",
       "      <td>45928</td>\n",
       "      <td>286.540559</td>\n",
       "      <td>208.760042</td>\n",
       "      <td>0.684989</td>\n",
       "      <td>47336</td>\n",
       "      <td>0.699599</td>\n",
       "      <td>844.162</td>\n",
       "      <td>Kecimen</td>\n",
       "    </tr>\n",
       "    <tr>\n",
       "      <th>4</th>\n",
       "      <td>79408</td>\n",
       "      <td>352.190770</td>\n",
       "      <td>290.827533</td>\n",
       "      <td>0.564011</td>\n",
       "      <td>81463</td>\n",
       "      <td>0.792772</td>\n",
       "      <td>1073.251</td>\n",
       "      <td>Kecimen</td>\n",
       "    </tr>\n",
       "    <tr>\n",
       "      <th>...</th>\n",
       "      <td>...</td>\n",
       "      <td>...</td>\n",
       "      <td>...</td>\n",
       "      <td>...</td>\n",
       "      <td>...</td>\n",
       "      <td>...</td>\n",
       "      <td>...</td>\n",
       "      <td>...</td>\n",
       "    </tr>\n",
       "    <tr>\n",
       "      <th>895</th>\n",
       "      <td>83248</td>\n",
       "      <td>430.077308</td>\n",
       "      <td>247.838695</td>\n",
       "      <td>0.817263</td>\n",
       "      <td>85839</td>\n",
       "      <td>0.668793</td>\n",
       "      <td>1129.072</td>\n",
       "      <td>Besni</td>\n",
       "    </tr>\n",
       "    <tr>\n",
       "      <th>896</th>\n",
       "      <td>87350</td>\n",
       "      <td>440.735698</td>\n",
       "      <td>259.293149</td>\n",
       "      <td>0.808629</td>\n",
       "      <td>90899</td>\n",
       "      <td>0.636476</td>\n",
       "      <td>1214.252</td>\n",
       "      <td>Besni</td>\n",
       "    </tr>\n",
       "    <tr>\n",
       "      <th>897</th>\n",
       "      <td>99657</td>\n",
       "      <td>431.706981</td>\n",
       "      <td>298.837323</td>\n",
       "      <td>0.721684</td>\n",
       "      <td>106264</td>\n",
       "      <td>0.741099</td>\n",
       "      <td>1292.828</td>\n",
       "      <td>Besni</td>\n",
       "    </tr>\n",
       "    <tr>\n",
       "      <th>898</th>\n",
       "      <td>93523</td>\n",
       "      <td>476.344094</td>\n",
       "      <td>254.176054</td>\n",
       "      <td>0.845739</td>\n",
       "      <td>97653</td>\n",
       "      <td>0.658798</td>\n",
       "      <td>1258.548</td>\n",
       "      <td>Besni</td>\n",
       "    </tr>\n",
       "    <tr>\n",
       "      <th>899</th>\n",
       "      <td>85609</td>\n",
       "      <td>512.081774</td>\n",
       "      <td>215.271976</td>\n",
       "      <td>0.907345</td>\n",
       "      <td>89197</td>\n",
       "      <td>0.632020</td>\n",
       "      <td>1272.862</td>\n",
       "      <td>Besni</td>\n",
       "    </tr>\n",
       "  </tbody>\n",
       "</table>\n",
       "<p>900 rows × 8 columns</p>\n",
       "</div>"
      ],
      "text/plain": [
       "      Area  MajorAxisLength  MinorAxisLength  Eccentricity  ConvexArea  \\\n",
       "0    87524       442.246011       253.291155      0.819738       90546   \n",
       "1    75166       406.690687       243.032436      0.801805       78789   \n",
       "2    90856       442.267048       266.328318      0.798354       93717   \n",
       "3    45928       286.540559       208.760042      0.684989       47336   \n",
       "4    79408       352.190770       290.827533      0.564011       81463   \n",
       "..     ...              ...              ...           ...         ...   \n",
       "895  83248       430.077308       247.838695      0.817263       85839   \n",
       "896  87350       440.735698       259.293149      0.808629       90899   \n",
       "897  99657       431.706981       298.837323      0.721684      106264   \n",
       "898  93523       476.344094       254.176054      0.845739       97653   \n",
       "899  85609       512.081774       215.271976      0.907345       89197   \n",
       "\n",
       "       Extent  Perimeter    Class  \n",
       "0    0.758651   1184.040  Kecimen  \n",
       "1    0.684130   1121.786  Kecimen  \n",
       "2    0.637613   1208.575  Kecimen  \n",
       "3    0.699599    844.162  Kecimen  \n",
       "4    0.792772   1073.251  Kecimen  \n",
       "..        ...        ...      ...  \n",
       "895  0.668793   1129.072    Besni  \n",
       "896  0.636476   1214.252    Besni  \n",
       "897  0.741099   1292.828    Besni  \n",
       "898  0.658798   1258.548    Besni  \n",
       "899  0.632020   1272.862    Besni  \n",
       "\n",
       "[900 rows x 8 columns]"
      ]
     },
     "execution_count": 2,
     "metadata": {},
     "output_type": "execute_result"
    }
   ],
   "source": [
    "dF=pd.read_csv('Raisin_Dataset.csv')\n",
    "dF"
   ]
  },
  {
   "cell_type": "markdown",
   "id": "b86a5fc1",
   "metadata": {},
   "source": [
    "Data Set Information:\n",
    "\n",
    "Images of Kecimen and Besni raisin varieties grown in Turkey were obtained with CVS.\n",
    "\n",
    "A total of 900 raisin grains were used, including 450 pieces from both varieties.\n",
    "\n",
    "These images were subjected to various stages of pre-processing and 7 morphological features were extracted.\n",
    "\n",
    "These features have been classified using three different artificial intelligence techniques.\n",
    "\n",
    "\n",
    "\n",
    "\n",
    "Attribute Information:\n",
    "\n",
    "1.) Area: Gives the number of pixels within the boundaries of the raisin.\n",
    "\n",
    "2.) Perimeter: It measures the environment by calculating the distance between the boundaries of the raisin and the pixels around it.\n",
    "\n",
    "3.) MajorAxisLength: Gives the length of the main axis, which is the longest line that can be drawn on the raisin.\n",
    "\n",
    "4.) MinorAxisLength: Gives the length of the small axis, which is the shortest line that can be drawn on the raisin.\n",
    "\n",
    "5.) Eccentricity: It gives a measure of the eccentricity of the ellipse, which has the same moments as raisins.\n",
    "\n",
    "6.) ConvexArea: Gives the number of pixels of the smallest convex shell of the region formed by the raisin.\n",
    "\n",
    "7.) Extent: Gives the ratio of the region formed by the raisin to the total pixels in the bounding box.\n",
    "\n",
    "8.) Class: Kecimen and Besni raisin.\n",
    "\n"
   ]
  },
  {
   "cell_type": "code",
   "execution_count": 3,
   "id": "965ad985",
   "metadata": {
    "scrolled": true
   },
   "outputs": [
    {
     "name": "stdout",
     "output_type": "stream",
     "text": [
      "<class 'pandas.core.frame.DataFrame'>\n",
      "RangeIndex: 900 entries, 0 to 899\n",
      "Data columns (total 8 columns):\n",
      " #   Column           Non-Null Count  Dtype  \n",
      "---  ------           --------------  -----  \n",
      " 0   Area             900 non-null    int64  \n",
      " 1   MajorAxisLength  900 non-null    float64\n",
      " 2   MinorAxisLength  900 non-null    float64\n",
      " 3   Eccentricity     900 non-null    float64\n",
      " 4   ConvexArea       900 non-null    int64  \n",
      " 5   Extent           900 non-null    float64\n",
      " 6   Perimeter        900 non-null    float64\n",
      " 7   Class            900 non-null    object \n",
      "dtypes: float64(5), int64(2), object(1)\n",
      "memory usage: 56.4+ KB\n"
     ]
    }
   ],
   "source": [
    "#Exploring the Details of the dataset\n",
    "dF.info()\n"
   ]
  },
  {
   "cell_type": "code",
   "execution_count": 4,
   "id": "adc58f53",
   "metadata": {},
   "outputs": [
    {
     "data": {
      "text/plain": [
       "Index(['Area', 'MajorAxisLength', 'MinorAxisLength', 'Eccentricity',\n",
       "       'ConvexArea', 'Extent', 'Perimeter', 'Class'],\n",
       "      dtype='object')"
      ]
     },
     "execution_count": 4,
     "metadata": {},
     "output_type": "execute_result"
    }
   ],
   "source": [
    "#Returning All the keys from the dataset\n",
    "dF.keys()"
   ]
  },
  {
   "cell_type": "code",
   "execution_count": 5,
   "id": "835d8a82",
   "metadata": {},
   "outputs": [
    {
     "data": {
      "text/plain": [
       "Text(0.5, 1.0, 'Number of raisins from different varieties')"
      ]
     },
     "execution_count": 5,
     "metadata": {},
     "output_type": "execute_result"
    },
    {
     "data": {
      "image/png": "[encoded data removed]",
      "text/plain": [
       "<Figure size 432x288 with 1 Axes>"
      ]
     },
     "metadata": {
      "needs_background": "light"
     },
     "output_type": "display_data"
    }
   ],
   "source": [
    "#Showing the number of rasisns from different varieties on a plot\n",
    "sns.countplot(x='Class',data=dF, palette='rainbow')\n",
    "plt.title('Number of raisins from different varieties')"
   ]
  },
  {
   "cell_type": "code",
   "execution_count": 6,
   "id": "43dd412a",
   "metadata": {},
   "outputs": [
    {
     "data": {
      "image/png": "[encoded data removed]",
      "text/plain": [
       "<Figure size 432x288 with 1 Axes>"
      ]
     },
     "metadata": {
      "needs_background": "light"
     },
     "output_type": "display_data"
    }
   ],
   "source": [
    "#Plotting the Data for largest rasins\n",
    "sns.stripplot(x='Class', y='MajorAxisLength', data=dF)\n",
    "plt.title(\"Swarmplot on different size of rasins\");"
   ]
  },
  {
   "cell_type": "code",
   "execution_count": 7,
   "id": "497396a9",
   "metadata": {},
   "outputs": [
    {
     "data": {
      "image/png": "[encoded data removed]",
      "text/plain": [
       "<Figure size 432x288 with 1 Axes>"
      ]
     },
     "metadata": {
      "needs_background": "light"
     },
     "output_type": "display_data"
    }
   ],
   "source": [
    "#Plotting Data to compare the rasin whom have good quality\n",
    "sns.stripplot(x='Eccentricity', y='Class', data=dF)\n",
    "plt.title(\"Swarmplot on comparison of the rasins whom have good quality based on eccentricity\");"
   ]
  },
  {
   "cell_type": "code",
   "execution_count": 8,
   "id": "1eef1c9a",
   "metadata": {},
   "outputs": [
    {
     "data": {
      "image/png": "[encoded data removed]",
      "text/plain": [
       "<Figure size 432x288 with 1 Axes>"
      ]
     },
     "metadata": {
      "needs_background": "light"
     },
     "output_type": "display_data"
    }
   ],
   "source": [
    "#Plotting Data to compare the area and convex area of rasins\n",
    "plt.scatter(dF['Area'],dF['ConvexArea'])\n",
    "plt.title(\"Scatter Plot on rasins volume\");"
   ]
  },
  {
   "cell_type": "markdown",
   "id": "d3742efa",
   "metadata": {},
   "source": [
    "Outcomes from the plotting.\n",
    "\n",
    "There was actually not that much idea generated from watching the plotting. There was no pattern\n",
    "to identify something.\n"
   ]
  },
  {
   "cell_type": "code",
   "execution_count": 9,
   "id": "40f04eb4",
   "metadata": {},
   "outputs": [
    {
     "data": {
      "text/plain": [
       "Class\n",
       "Besni      450\n",
       "Kecimen    450\n",
       "dtype: int64"
      ]
     },
     "execution_count": 9,
     "metadata": {},
     "output_type": "execute_result"
    }
   ],
   "source": [
    "#Counting the number of target variable\n",
    "dF.groupby('Class').size()"
   ]
  },
  {
   "cell_type": "code",
   "execution_count": 11,
   "id": "bd6f23bd",
   "metadata": {},
   "outputs": [
    {
     "ename": "NameError",
     "evalue": "name 'Class' is not defined",
     "output_type": "error",
     "traceback": [
      "\u001b[0;31m---------------------------------------------------------------------------\u001b[0m",
      "\u001b[0;31mNameError\u001b[0m                                 Traceback (most recent call last)",
      "\u001b[1;32m/Users/ash/Downloads/Python/Rasins Quality detection-Copy1.ipynb Cell 12\u001b[0m in \u001b[0;36m<cell line: 7>\u001b[0;34m()\u001b[0m\n\u001b[1;32m      <a href='vscode-notebook-cell:/Users/ash/Downloads/Python/Rasins%20Quality%20detection-Copy1.ipynb#ch0000011?line=5'>6</a>\u001b[0m labelencoder\u001b[39m=\u001b[39mLabelEncoder() \u001b[39m#it is used to convert the categorical data into machine readable form\u001b[39;00m\n\u001b[1;32m      <a href='vscode-notebook-cell:/Users/ash/Downloads/Python/Rasins%20Quality%20detection-Copy1.ipynb#ch0000011?line=6'>7</a>\u001b[0m \u001b[39mfor\u001b[39;00m column \u001b[39min\u001b[39;00m dF\u001b[39m.\u001b[39mcolumns:\n\u001b[0;32m----> <a href='vscode-notebook-cell:/Users/ash/Downloads/Python/Rasins%20Quality%20detection-Copy1.ipynb#ch0000011?line=7'>8</a>\u001b[0m     dF[Class] \u001b[39m=\u001b[39m labelencoder\u001b[39m.\u001b[39mfit_transform(dF[Class])\n\u001b[1;32m      <a href='vscode-notebook-cell:/Users/ash/Downloads/Python/Rasins%20Quality%20detection-Copy1.ipynb#ch0000011?line=8'>9</a>\u001b[0m plt\u001b[39m.\u001b[39mfigure(figsize\u001b[39m=\u001b[39m(\u001b[39m14\u001b[39m,\u001b[39m12\u001b[39m))\n\u001b[1;32m     <a href='vscode-notebook-cell:/Users/ash/Downloads/Python/Rasins%20Quality%20detection-Copy1.ipynb#ch0000011?line=9'>10</a>\u001b[0m sns\u001b[39m.\u001b[39mheatmap(dF\u001b[39m.\u001b[39mcorr(),linewidths\u001b[39m=\u001b[39m\u001b[39m.1\u001b[39m,cmap\u001b[39m=\u001b[39m\u001b[39m\"\u001b[39m\u001b[39mYlGnBu\u001b[39m\u001b[39m\"\u001b[39m, annot\u001b[39m=\u001b[39m\u001b[39mTrue\u001b[39;00m)\n",
      "\u001b[0;31mNameError\u001b[0m: name 'Class' is not defined"
     ]
    }
   ],
   "source": [
    "#Creating the Correlation Matrix For the Whole Dataset\n",
    "from sklearn.model_selection import train_test_split\n",
    "from sklearn.preprocessing import LabelEncoder\n",
    "from sklearn.metrics import classification_report, confusion_matrix, precision_recall_curve, auc, roc_curve\n",
    "from sklearn.tree import DecisionTreeClassifier, export_graphviz\n",
    "labelencoder=LabelEncoder() #it is used to convert the categorical data into machine readable form\n",
    "for column in dF.columns:\n",
    "    dF[Class] = labelencoder.fit_transform(dF[Class])\n",
    "plt.figure(figsize=(14,12))\n",
    "sns.heatmap(dF.corr(),linewidths=.1,cmap=\"YlGnBu\", annot=True)\n",
    "plt.yticks(rotation=0);"
   ]
  },
  {
   "cell_type": "code",
   "execution_count": null,
   "id": "c5d4dd9b",
   "metadata": {},
   "outputs": [],
   "source": [
    "# corr() to calculate the correlation between variables\n",
    "from sklearn.model_selection import train_test_split\n",
    "from sklearn.preprocessing import LabelEncoder\n",
    "from sklearn.metrics import classification_report, confusion_matrix,precision_recall_curve, auc, roc_curve\n",
    "from sklearn.tree import DecisionTreeClassifier, export_graphviz\n",
    "\n",
    "correlation_matrix = dF.corr().round(2)\n",
    "# changing the figure size\n",
    "plt.figure(figsize = (14, 12))\n",
    "# \"annot = True\" to print the values inside the square\n",
    "sns.heatmap(data=correlation_matrix, annot=True)"
   ]
  },
  {
   "cell_type": "code",
   "execution_count": null,
   "id": "c53a8540",
   "metadata": {},
   "outputs": [],
   "source": [
    "#creating the updated feature matrix using the important columns\n",
    "up_df=dF[['Area','MajorAxisLength','MinorAxisLength','ConvexArea','Perimeter']]\n",
    "up_df"
   ]
  },
  {
   "cell_type": "code",
   "execution_count": null,
   "id": "62e23280",
   "metadata": {},
   "outputs": [],
   "source": [
    "#seperating the target variable\n",
    "y=dF['Class']\n",
    "y"
   ]
  },
  {
   "cell_type": "code",
   "execution_count": null,
   "id": "bc0d1cd3",
   "metadata": {},
   "outputs": [],
   "source": [
    "from sklearn.model_selection import train_test_split\n",
    "X_train, X_test, y_train, y_test = train_test_split(up_df, y, test_size = 0.3,random_state = 16)\n",
    "print(\"X_train shape: \", X_train.shape)\n",
    "print(\"X_test shape: \", X_test.shape)\n",
    "print(\"y_train shape: \", y_train.shape)\n",
    "print(\"y_test shape: \", y_test.shape)"
   ]
  },
  {
   "cell_type": "markdown",
   "id": "2b7bce89",
   "metadata": {},
   "source": [
    "\n"
   ]
  },
  {
   "cell_type": "markdown",
   "id": "2d497920",
   "metadata": {},
   "source": [
    "Training: 630 out of 900 data has been chosen for training the model.\n",
    "\n",
    "Testing: 270 out of 900 data has been chosen for testing the model.\n",
    "\n",
    "This is a supervised machine learning model.\n",
    "\n",
    "Because this is a labeled dataset and I know what type of data I am working with. Total 2 types of algorithms have been used to test the accuracy of this model.\n",
    "They are listed below:\n",
    "\n",
    "1.Support Vector Machine algorithm\n",
    "\n",
    "2.Decision Tree algorithm"
   ]
  },
  {
   "cell_type": "markdown",
   "id": "2a7d76f4",
   "metadata": {},
   "source": [
    "Checking the Accuracy of the model based on Different ML Algorithms\n"
   ]
  },
  {
   "cell_type": "code",
   "execution_count": null,
   "id": "d842d358",
   "metadata": {},
   "outputs": [],
   "source": [
    "# importing the necessary package to use the svm algorithm\n",
    "from sklearn import svm\n",
    "model_svm = svm.SVC()\n",
    "model_svm.fit(X_train, y_train)\n",
    "y_prediction_svm = model_svm.predict(X_test)\n",
    "score_svm = metrics.accuracy_score(y_prediction_svm, y_test).round(4)\n",
    "print('The accuracy of the model based on Support Vector Machine Algorithm is {}%'.format(score_svm*100))\n",
    "perc.append(score_svm)"
   ]
  },
  {
   "cell_type": "code",
   "execution_count": null,
   "id": "60e91d91",
   "metadata": {},
   "outputs": [],
   "source": [
    "# importing the necessary package to use the decision tree algorithm\n",
    "from sklearn.tree import DecisionTreeClassifier\n",
    "model_dt = DecisionTreeClassifier(random_state=4)\n",
    "model_dt.fit(X_train, y_train)\n",
    "y_prediction_dt = model_dt.predict(X_test)\n",
    "score_dt = metrics.accuracy_score(y_prediction_dt, y_test).round(4)\n",
    "print('The accuracy of the model based on Decision Tree Algorithm is {}%'.format(score_dt*100))\n",
    "perc.append(score_dt)"
   ]
  },
  {
   "cell_type": "markdown",
   "id": "80b654d4",
   "metadata": {},
   "source": [
    "Model Accuracy:\n",
    "\n",
    "This model has an accuracy of 83.7% based on Support Vector Machine algorithm."
   ]
  },
  {
   "cell_type": "markdown",
   "id": "414bc471",
   "metadata": {},
   "source": [
    "\n"
   ]
  }
 ],
 "metadata": {
  "kernelspec": {
   "display_name": "Python 3.9.13 ('venv': venv)",
   "language": "python",
   "name": "python3"
  },
  "language_info": {
   "codemirror_mode": {
    "name": "ipython",
    "version": 3
   },
   "file_extension": ".py",
   "mimetype": "text/x-python",
   "name": "python",
   "nbconvert_exporter": "python",
   "pygments_lexer": "ipython3",
   "version": "3.9.13"
  },
  "vscode": {
   "interpreter": {
    "hash": "37e2249264779a94c41d914527f4d59da588398d66a2eee8b087dbbd30cdcfc5"
   }
  }
 },
 "nbformat": 4,
 "nbformat_minor": 5
}
